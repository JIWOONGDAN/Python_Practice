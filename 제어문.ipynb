{
 "cells": [
  {
   "cell_type": "code",
   "execution_count": 2,
   "metadata": {},
   "outputs": [
    {
     "data": {
      "text/plain": [
       "True"
      ]
     },
     "execution_count": 2,
     "metadata": {},
     "output_type": "execute_result"
    }
   ],
   "source": [
    "x = 3\n",
    "y = 2\n",
    "x > y\n",
    "True"
   ]
  },
  {
   "cell_type": "code",
   "execution_count": 3,
   "metadata": {},
   "outputs": [
    {
     "data": {
      "text/plain": [
       "False"
      ]
     },
     "execution_count": 3,
     "metadata": {},
     "output_type": "execute_result"
    }
   ],
   "source": [
    "x < y"
   ]
  },
  {
   "cell_type": "code",
   "execution_count": 4,
   "metadata": {},
   "outputs": [
    {
     "data": {
      "text/plain": [
       "False"
      ]
     },
     "execution_count": 4,
     "metadata": {},
     "output_type": "execute_result"
    }
   ],
   "source": [
    "x == y"
   ]
  },
  {
   "cell_type": "code",
   "execution_count": 5,
   "metadata": {},
   "outputs": [
    {
     "data": {
      "text/plain": [
       "True"
      ]
     },
     "execution_count": 5,
     "metadata": {},
     "output_type": "execute_result"
    }
   ],
   "source": [
    "x != y"
   ]
  },
  {
   "cell_type": "code",
   "execution_count": 6,
   "metadata": {},
   "outputs": [
    {
     "name": "stdout",
     "output_type": "stream",
     "text": [
      "걸어 가라\n"
     ]
    }
   ],
   "source": [
    "money = 2000\n",
    "if money >= 3000:\n",
    "    print(\"택시를 타고 가라\")\n",
    "else:\n",
    "    print(\"걸어 가라\")"
   ]
  },
  {
   "cell_type": "code",
   "execution_count": 7,
   "metadata": {},
   "outputs": [
    {
     "name": "stdout",
     "output_type": "stream",
     "text": [
      "택시를 타고 가라\n"
     ]
    }
   ],
   "source": [
    "money = 2000\n",
    "card = True\n",
    "if money >= 3000 or card:\n",
    "    print(\"택시를 타고 가라\")\n",
    "else:\n",
    "    print(\"걸어 가라\")"
   ]
  },
  {
   "cell_type": "code",
   "execution_count": 8,
   "metadata": {},
   "outputs": [
    {
     "data": {
      "text/plain": [
       "True"
      ]
     },
     "execution_count": 8,
     "metadata": {},
     "output_type": "execute_result"
    }
   ],
   "source": [
    "1 in [1, 2, 3]"
   ]
  },
  {
   "cell_type": "code",
   "execution_count": 9,
   "metadata": {},
   "outputs": [
    {
     "data": {
      "text/plain": [
       "False"
      ]
     },
     "execution_count": 9,
     "metadata": {},
     "output_type": "execute_result"
    }
   ],
   "source": [
    "1 not in [1, 2, 3]"
   ]
  },
  {
   "cell_type": "code",
   "execution_count": 10,
   "metadata": {},
   "outputs": [
    {
     "data": {
      "text/plain": [
       "True"
      ]
     },
     "execution_count": 10,
     "metadata": {},
     "output_type": "execute_result"
    }
   ],
   "source": [
    "'a' in ('a', 'b', 'c')"
   ]
  },
  {
   "cell_type": "code",
   "execution_count": 11,
   "metadata": {},
   "outputs": [
    {
     "data": {
      "text/plain": [
       "False"
      ]
     },
     "execution_count": 11,
     "metadata": {},
     "output_type": "execute_result"
    }
   ],
   "source": [
    "'j' in 'Python'"
   ]
  },
  {
   "cell_type": "code",
   "execution_count": 12,
   "metadata": {},
   "outputs": [
    {
     "name": "stdout",
     "output_type": "stream",
     "text": [
      "택시를 타고 가라\n"
     ]
    }
   ],
   "source": [
    "pocket = ['paper', 'cellphone', 'money']\n",
    "if 'money' in pocket:\n",
    "    print(\"택시를 타고 가라\")\n",
    "else:\n",
    "    print(\"걸어 가라\")"
   ]
  },
  {
   "cell_type": "code",
   "execution_count": 13,
   "metadata": {},
   "outputs": [
    {
     "name": "stdout",
     "output_type": "stream",
     "text": [
      "걸어가라\n"
     ]
    }
   ],
   "source": [
    "pocket = ['paper','cellphone', 'money']\n",
    "if 'card' in pocket:\n",
    "    print(\"버스를 타고 가라\")\n",
    "else:\n",
    "    print(\"걸어가라\")"
   ]
  },
  {
   "cell_type": "code",
   "execution_count": 14,
   "metadata": {},
   "outputs": [],
   "source": [
    "if 'money' in pocket:\n",
    "    pass\n",
    "else:\n",
    "    print(\"카드를 꺼내라\")"
   ]
  },
  {
   "cell_type": "code",
   "execution_count": 21,
   "metadata": {},
   "outputs": [
    {
     "name": "stdout",
     "output_type": "stream",
     "text": [
      "택시를 타고 가라\n"
     ]
    }
   ],
   "source": [
    "pocket = ['paper', 'cellphone']\n",
    "card= True\n",
    "if 'money' in pocket:\n",
    "    print('택시를 타고 가라')\n",
    "elif card:\n",
    "    print(\"택시를 타고 가라\")\n",
    "else:\n",
    "    print(\"걸어 가라\")"
   ]
  },
  {
   "cell_type": "code",
   "execution_count": 23,
   "metadata": {},
   "outputs": [
    {
     "name": "stdout",
     "output_type": "stream",
     "text": [
      "걸어가라\n"
     ]
    }
   ],
   "source": [
    "pocket= ['paper', 'cellphone']\n",
    "if 'money' in pocket: pass\n",
    "else: print('걸어가라')"
   ]
  },
  {
   "cell_type": "code",
   "execution_count": 26,
   "metadata": {},
   "outputs": [
    {
     "name": "stdout",
     "output_type": "stream",
     "text": [
      "나무를 1번 찍었습니다.\n",
      "나무를 2번 찍었습니다.\n",
      "나무를 3번 찍었습니다.\n",
      "나무를 4번 찍었습니다.\n",
      "나무를 5번 찍었습니다.\n",
      "나무를 6번 찍었습니다.\n",
      "나무를 7번 찍었습니다.\n",
      "나무를 8번 찍었습니다.\n",
      "나무를 9번 찍었습니다.\n",
      "나무를 10번 찍었습니다.\n",
      "나무가 넘어갔습니다\n"
     ]
    }
   ],
   "source": [
    "treehit = 0\n",
    "while treehit < 10:\n",
    "    treehit = treehit + 1\n",
    "    print(\"나무를 %d번 찍었습니다.\" % treehit)\n",
    "    if treehit == 10:\n",
    "        print(\"나무가 넘어갔습니다\")\n",
    "    "
   ]
  },
  {
   "cell_type": "code",
   "execution_count": 33,
   "metadata": {},
   "outputs": [],
   "source": [
    "prompt = \"\"\"\n",
    "   1.Add\n",
    "   2. Del\n",
    "   3.List\n",
    "   4.Quit\n",
    "   \n",
    "   Enter number:\"\"\""
   ]
  },
  {
   "cell_type": "code",
   "execution_count": 38,
   "metadata": {},
   "outputs": [
    {
     "name": "stdout",
     "output_type": "stream",
     "text": [
      "\n",
      "   1.Add\n",
      "   2. Del\n",
      "   3.List\n",
      "   4.Quit\n",
      "   \n",
      "   Enter number:\n",
      "1\n",
      "\n",
      "   1.Add\n",
      "   2. Del\n",
      "   3.List\n",
      "   4.Quit\n",
      "   \n",
      "   Enter number:\n",
      "2\n",
      "\n",
      "   1.Add\n",
      "   2. Del\n",
      "   3.List\n",
      "   4.Quit\n",
      "   \n",
      "   Enter number:\n",
      "3\n",
      "\n",
      "   1.Add\n",
      "   2. Del\n",
      "   3.List\n",
      "   4.Quit\n",
      "   \n",
      "   Enter number:\n",
      "4\n"
     ]
    }
   ],
   "source": [
    "number = 0\n",
    "while number != 4:\n",
    "    print(prompt)\n",
    "    number = int(input())\n",
    "    "
   ]
  },
  {
   "cell_type": "code",
   "execution_count": 39,
   "metadata": {},
   "outputs": [
    {
     "name": "stdout",
     "output_type": "stream",
     "text": [
      "돈을 받았으니 커피를 줍니다\n",
      "남은 커피의 양은 9개입니다.\n",
      "돈을 받았으니 커피를 줍니다\n",
      "남은 커피의 양은 8개입니다.\n",
      "돈을 받았으니 커피를 줍니다\n",
      "남은 커피의 양은 7개입니다.\n",
      "돈을 받았으니 커피를 줍니다\n",
      "남은 커피의 양은 6개입니다.\n",
      "돈을 받았으니 커피를 줍니다\n",
      "남은 커피의 양은 5개입니다.\n",
      "돈을 받았으니 커피를 줍니다\n",
      "남은 커피의 양은 4개입니다.\n",
      "돈을 받았으니 커피를 줍니다\n",
      "남은 커피의 양은 3개입니다.\n",
      "돈을 받았으니 커피를 줍니다\n",
      "남은 커피의 양은 2개입니다.\n",
      "돈을 받았으니 커피를 줍니다\n",
      "남은 커피의 양은 1개입니다.\n",
      "돈을 받았으니 커피를 줍니다\n",
      "남은 커피의 양은 0개입니다.\n",
      "커피가 다 떨어졌습니다. 판매를 중지합니다\n"
     ]
    }
   ],
   "source": [
    "coffee = 10\n",
    "money = 300\n",
    "while money:\n",
    "    print(\"돈을 받았으니 커피를 줍니다\")\n",
    "    coffee = coffee - 1\n",
    "    print(\"남은 커피의 양은 %d개입니다.\" % coffee)\n",
    "    if coffee == 0:\n",
    "        print(\"커피가 다 떨어졌습니다. 판매를 중지합니다\")\n",
    "        break"
   ]
  },
  {
   "cell_type": "code",
   "execution_count": 40,
   "metadata": {},
   "outputs": [
    {
     "name": "stdout",
     "output_type": "stream",
     "text": [
      "돈을 넣어주세요: 300\n",
      "커피를 줍니다\n",
      "돈을 넣어주세요: 400\n",
      "거스름돈 100를 주고 커피를 줍니다.\n",
      "돈을 넣어주세요: 500\n",
      "거스름돈 200를 주고 커피를 줍니다.\n",
      "돈을 넣어주세요: 200\n",
      "잔액이 부족합니다\n",
      "남은 커피의 양은 7개입니다.\n",
      "돈을 넣어주세요: 300\n",
      "커피를 줍니다\n",
      "돈을 넣어주세요: 400\n",
      "거스름돈 100를 주고 커피를 줍니다.\n",
      "돈을 넣어주세요: 1000\n",
      "거스름돈 700를 주고 커피를 줍니다.\n",
      "돈을 넣어주세요: 200\n",
      "잔액이 부족합니다\n",
      "남은 커피의 양은 4개입니다.\n",
      "돈을 넣어주세요: 300\n",
      "커피를 줍니다\n",
      "돈을 넣어주세요: 200\n",
      "잔액이 부족합니다\n",
      "남은 커피의 양은 3개입니다.\n",
      "돈을 넣어주세요: 100\n",
      "잔액이 부족합니다\n",
      "남은 커피의 양은 3개입니다.\n",
      "돈을 넣어주세요: 300\n",
      "커피를 줍니다\n",
      "돈을 넣어주세요: 300\n",
      "커피를 줍니다\n",
      "돈을 넣어주세요: 300\n",
      "커피를 줍니다\n",
      "커피가 다 떨어졌습니다. 판매를 중지합니다.\n"
     ]
    }
   ],
   "source": [
    "coffee = 10\n",
    "while True:\n",
    "    money = int(input(\"돈을 넣어주세요: \"))\n",
    "    if money == 300:\n",
    "        print(\"커피를 줍니다\")\n",
    "        coffee = coffee - 1\n",
    "    elif money > 300:\n",
    "        print(\"거스름돈 %d를 주고 커피를 줍니다.\" %(money - 300))\n",
    "        coffee = coffee - 1\n",
    "    else:\n",
    "        print(\"잔액이 부족합니다\")\n",
    "        print(\"남은 커피의 양은 %d개입니다.\" % coffee)\n",
    "    if coffee == 0:\n",
    "        print(\"커피가 다 떨어졌습니다. 판매를 중지합니다.\")\n",
    "        break"
   ]
  },
  {
   "cell_type": "code",
   "execution_count": 43,
   "metadata": {},
   "outputs": [
    {
     "name": "stdout",
     "output_type": "stream",
     "text": [
      "1\n",
      "3\n",
      "5\n",
      "7\n",
      "9\n"
     ]
    }
   ],
   "source": [
    "a = 0\n",
    "while a < 10:\n",
    "    a = a + 1\n",
    "    if a % 2 == 0: continue\n",
    "    print(a)"
   ]
  },
  {
   "cell_type": "code",
   "execution_count": 46,
   "metadata": {},
   "outputs": [
    {
     "name": "stdout",
     "output_type": "stream",
     "text": [
      "1\n",
      "2\n",
      "4\n",
      "5\n",
      "7\n",
      "8\n",
      "10\n"
     ]
    }
   ],
   "source": [
    "a = 0\n",
    "while a <10:\n",
    "    a = a + 1\n",
    "    if a % 3 == 0: continue\n",
    "    print(a)"
   ]
  },
  {
   "cell_type": "code",
   "execution_count": 47,
   "metadata": {},
   "outputs": [
    {
     "name": "stdout",
     "output_type": "stream",
     "text": [
      "one\n",
      "two\n",
      "three\n"
     ]
    }
   ],
   "source": [
    "test_list = ['one', 'two', 'three']\n",
    "for i in test_list:\n",
    "    print(i)"
   ]
  },
  {
   "cell_type": "code",
   "execution_count": 48,
   "metadata": {},
   "outputs": [
    {
     "name": "stdout",
     "output_type": "stream",
     "text": [
      "3\n",
      "7\n",
      "11\n"
     ]
    }
   ],
   "source": [
    "a = [(1,2),(3,4),(5,6)]\n",
    "for (first,last) in a:\n",
    "    print(first + last)"
   ]
  },
  {
   "cell_type": "code",
   "execution_count": 49,
   "metadata": {},
   "outputs": [
    {
     "name": "stdout",
     "output_type": "stream",
     "text": [
      "1번 학생은 합격입니다.\n",
      "2번 학생은 불합격입니다.\n",
      "3번 학생은 합격입니다.\n",
      "4번 학생은 불합격입니다.\n",
      "5번 학생은 합격입니다.\n"
     ]
    }
   ],
   "source": [
    "marks = [90, 25, 67, 45, 80]\n",
    "number = 0\n",
    "for mark in marks:\n",
    "    number = number + 1\n",
    "    if mark >= 60:\n",
    "        print(\"%d번 학생은 합격입니다.\" % number)\n",
    "    else:\n",
    "        print(\"%d번 학생은 불합격입니다.\" % number)\n",
    "    "
   ]
  },
  {
   "cell_type": "code",
   "execution_count": 51,
   "metadata": {},
   "outputs": [
    {
     "name": "stdout",
     "output_type": "stream",
     "text": [
      "1번 학생 축하합니다. 합격입니다.\n",
      "3번 학생 축하합니다. 합격입니다.\n",
      "5번 학생 축하합니다. 합격입니다.\n"
     ]
    }
   ],
   "source": [
    "marks = [90, 25, 67, 45, 80]\n",
    "number = 0\n",
    "for mark in marks:\n",
    "    number = number + 1\n",
    "    if mark < 60: continue\n",
    "    print(\"%d번 학생 축하합니다. 합격입니다.\" % number)"
   ]
  },
  {
   "cell_type": "code",
   "execution_count": 53,
   "metadata": {},
   "outputs": [
    {
     "data": {
      "text/plain": [
       "range(0, 10)"
      ]
     },
     "execution_count": 53,
     "metadata": {},
     "output_type": "execute_result"
    }
   ],
   "source": [
    "a = range(10)\n",
    "a"
   ]
  },
  {
   "cell_type": "code",
   "execution_count": 54,
   "metadata": {},
   "outputs": [
    {
     "data": {
      "text/plain": [
       "range(1, 11)"
      ]
     },
     "execution_count": 54,
     "metadata": {},
     "output_type": "execute_result"
    }
   ],
   "source": [
    "a = range(1, 11)\n",
    "a"
   ]
  },
  {
   "cell_type": "code",
   "execution_count": 55,
   "metadata": {},
   "outputs": [
    {
     "name": "stdout",
     "output_type": "stream",
     "text": [
      "1\n",
      "3\n",
      "6\n",
      "10\n",
      "15\n",
      "21\n",
      "28\n",
      "36\n",
      "45\n",
      "55\n"
     ]
    }
   ],
   "source": [
    "add = 0\n",
    "for i in range(1, 11):\n",
    "    add = add + i\n",
    "    \n",
    "    print(add)"
   ]
  },
  {
   "cell_type": "code",
   "execution_count": 57,
   "metadata": {},
   "outputs": [
    {
     "name": "stdout",
     "output_type": "stream",
     "text": [
      "1번 학생 축하합니다. 합격입니다.\n",
      "3번 학생 축하합니다. 합격입니다.\n",
      "5번 학생 축하합니다. 합격입니다.\n"
     ]
    }
   ],
   "source": [
    "marks = [90, 25, 67, 45, 80]\n",
    "for number in range(len(marks)):\n",
    "    if marks[number] < 60: continue\n",
    "    print(\"%d번 학생 축하합니다. 합격입니다.\" % (number + 1))"
   ]
  },
  {
   "cell_type": "code",
   "execution_count": 59,
   "metadata": {},
   "outputs": [
    {
     "name": "stdout",
     "output_type": "stream",
     "text": [
      "1\n",
      "3\n",
      "6\n",
      "10\n",
      "15\n",
      "21\n",
      "28\n",
      "36\n",
      "45\n",
      "55\n",
      "66\n",
      "78\n",
      "91\n",
      "105\n",
      "120\n",
      "136\n",
      "153\n",
      "171\n",
      "190\n",
      "210\n",
      "231\n",
      "253\n",
      "276\n",
      "300\n",
      "325\n",
      "351\n",
      "378\n",
      "406\n",
      "435\n",
      "465\n",
      "496\n",
      "528\n",
      "561\n",
      "595\n",
      "630\n",
      "666\n",
      "703\n",
      "741\n",
      "780\n",
      "820\n",
      "861\n",
      "903\n",
      "946\n",
      "990\n",
      "1035\n",
      "1081\n",
      "1128\n",
      "1176\n",
      "1225\n",
      "1275\n",
      "1326\n",
      "1378\n",
      "1431\n",
      "1485\n",
      "1540\n",
      "1596\n",
      "1653\n",
      "1711\n",
      "1770\n",
      "1830\n",
      "1891\n",
      "1953\n",
      "2016\n",
      "2080\n",
      "2145\n",
      "2211\n",
      "2278\n",
      "2346\n",
      "2415\n",
      "2485\n",
      "2556\n",
      "2628\n",
      "2701\n",
      "2775\n",
      "2850\n",
      "2926\n",
      "3003\n",
      "3081\n",
      "3160\n",
      "3240\n",
      "3321\n",
      "3403\n",
      "3486\n",
      "3570\n",
      "3655\n",
      "3741\n",
      "3828\n",
      "3916\n",
      "4005\n",
      "4095\n",
      "4186\n",
      "4278\n",
      "4371\n",
      "4465\n",
      "4560\n",
      "4656\n",
      "4753\n",
      "4851\n",
      "4950\n",
      "5050\n"
     ]
    }
   ],
   "source": [
    "add = 0\n",
    "for i in range(1, 101):\n",
    "    add = add + i\n",
    "    print(add)"
   ]
  },
  {
   "cell_type": "code",
   "execution_count": 65,
   "metadata": {},
   "outputs": [
    {
     "name": "stdout",
     "output_type": "stream",
     "text": [
      "2 4 6 8 10 12 14 16 18 \n",
      "3 6 9 12 15 18 21 24 27 \n",
      "4 8 12 16 20 24 28 32 36 \n",
      "5 10 15 20 25 30 35 40 45 \n",
      "6 12 18 24 30 36 42 48 54 \n",
      "7 14 21 28 35 42 49 56 63 \n",
      "8 16 24 32 40 48 56 64 72 \n",
      "9 18 27 36 45 54 63 72 81 \n"
     ]
    }
   ],
   "source": [
    "for i in range(2, 10):\n",
    "    for j in range(1, 10):\n",
    "        print(i * j, end = \" \")\n",
    "    print(\"\")"
   ]
  },
  {
   "cell_type": "code",
   "execution_count": 68,
   "metadata": {},
   "outputs": [
    {
     "name": "stdout",
     "output_type": "stream",
     "text": [
      "[3, 6, 9, 12]\n"
     ]
    }
   ],
   "source": [
    "a = [1, 2, 3, 4]\n",
    "result = []\n",
    "for num in a:\n",
    "    result.append(num*3)\n",
    "print(result)"
   ]
  },
  {
   "cell_type": "code",
   "execution_count": 70,
   "metadata": {},
   "outputs": [
    {
     "name": "stdout",
     "output_type": "stream",
     "text": [
      "[6, 12]\n"
     ]
    }
   ],
   "source": [
    "a = [1, 2, 3, 4]\n",
    "result = [num * 3 for num in a if num % 2 == 0]\n",
    "print(result)"
   ]
  },
  {
   "cell_type": "code",
   "execution_count": 71,
   "metadata": {},
   "outputs": [
    {
     "name": "stdout",
     "output_type": "stream",
     "text": [
      "[2, 4, 6, 8, 10, 12, 14, 16, 18, 3, 6, 9, 12, 15, 18, 21, 24, 27, 4, 8, 12, 16, 20, 24, 28, 32, 36, 5, 10, 15, 20, 25, 30, 35, 40, 45, 6, 12, 18, 24, 30, 36, 42, 48, 54, 7, 14, 21, 28, 35, 42, 49, 56, 63, 8, 16, 24, 32, 40, 48, 56, 64, 72, 9, 18, 27, 36, 45, 54, 63, 72, 81]\n"
     ]
    }
   ],
   "source": [
    "result = [x*y for x in range(2, 10)\n",
    "         for y in range(1, 10)]\n",
    "print(result)"
   ]
  },
  {
   "cell_type": "code",
   "execution_count": 73,
   "metadata": {},
   "outputs": [
    {
     "name": "stdout",
     "output_type": "stream",
     "text": [
      "need\n"
     ]
    }
   ],
   "source": [
    "a = \"Life is too short, you need python\"\n",
    "\n",
    "if \"wife\" in a: print(\"wife\")\n",
    "elif \"python\" in a and \"you\" not in a: print(\"python\")\n",
    "elif \"shirt\" not in a: print(\"shirt\")\n",
    "elif \"need\" in a: print(\"need\")\n",
    "else: print(\"none\")"
   ]
  },
  {
   "cell_type": "code",
   "execution_count": 79,
   "metadata": {},
   "outputs": [
    {
     "name": "stdout",
     "output_type": "stream",
     "text": [
      "166833\n"
     ]
    }
   ],
   "source": [
    "result = 0\n",
    "i = 1\n",
    "while i <= 1000:\n",
    "    if i % 3 == 0:\n",
    "        result += i\n",
    "    i += 1\n",
    "    \n",
    "print(result)"
   ]
  },
  {
   "cell_type": "code",
   "execution_count": 84,
   "metadata": {},
   "outputs": [
    {
     "name": "stdout",
     "output_type": "stream",
     "text": [
      "*\n",
      "**\n",
      "***\n",
      "****\n",
      "*****\n"
     ]
    }
   ],
   "source": [
    "i = 0\n",
    "while True:\n",
    "    i += 1\n",
    "    if i > 5: break\n",
    "    print(\"*\"*i)"
   ]
  },
  {
   "cell_type": "code",
   "execution_count": 87,
   "metadata": {},
   "outputs": [
    {
     "name": "stdout",
     "output_type": "stream",
     "text": [
      "1\n",
      "2\n",
      "3\n",
      "4\n",
      "5\n",
      "6\n",
      "7\n",
      "8\n",
      "9\n",
      "10\n",
      "11\n",
      "12\n",
      "13\n",
      "14\n",
      "15\n",
      "16\n",
      "17\n",
      "18\n",
      "19\n",
      "20\n",
      "21\n",
      "22\n",
      "23\n",
      "24\n",
      "25\n",
      "26\n",
      "27\n",
      "28\n",
      "29\n",
      "30\n",
      "31\n",
      "32\n",
      "33\n",
      "34\n",
      "35\n",
      "36\n",
      "37\n",
      "38\n",
      "39\n",
      "40\n",
      "41\n",
      "42\n",
      "43\n",
      "44\n",
      "45\n",
      "46\n",
      "47\n",
      "48\n",
      "49\n",
      "50\n",
      "51\n",
      "52\n",
      "53\n",
      "54\n",
      "55\n",
      "56\n",
      "57\n",
      "58\n",
      "59\n",
      "60\n",
      "61\n",
      "62\n",
      "63\n",
      "64\n",
      "65\n",
      "66\n",
      "67\n",
      "68\n",
      "69\n",
      "70\n",
      "71\n",
      "72\n",
      "73\n",
      "74\n",
      "75\n",
      "76\n",
      "77\n",
      "78\n",
      "79\n",
      "80\n",
      "81\n",
      "82\n",
      "83\n",
      "84\n",
      "85\n",
      "86\n",
      "87\n",
      "88\n",
      "89\n",
      "90\n",
      "91\n",
      "92\n",
      "93\n",
      "94\n",
      "95\n",
      "96\n",
      "97\n",
      "98\n",
      "99\n",
      "100\n"
     ]
    }
   ],
   "source": [
    "for i in range(1,101):\n",
    "    print(i)"
   ]
  },
  {
   "cell_type": "code",
   "execution_count": 92,
   "metadata": {},
   "outputs": [
    {
     "name": "stdout",
     "output_type": "stream",
     "text": [
      "79.0\n"
     ]
    }
   ],
   "source": [
    "A = [70, 60, 55, 75, 95, 90, 80, 80, 85, 100]\n",
    "total = 0\n",
    "for score in A:\n",
    "    total += score\n",
    "    average = total/len(A)\n",
    "print(average)"
   ]
  },
  {
   "cell_type": "code",
   "execution_count": 97,
   "metadata": {},
   "outputs": [
    {
     "name": "stdout",
     "output_type": "stream",
     "text": [
      "[2, 6, 10]\n"
     ]
    }
   ],
   "source": [
    "numbers = [1, 2, 3, 4, 5]\n",
    "\n",
    "result = []\n",
    "for n in numbers:\n",
    "    if n % 2 == 1:\n",
    "        result.append(n*2)\n",
    "print(result)"
   ]
  },
  {
   "cell_type": "code",
   "execution_count": 95,
   "metadata": {},
   "outputs": [
    {
     "name": "stdout",
     "output_type": "stream",
     "text": [
      "[2, 6, 10]\n"
     ]
    }
   ],
   "source": [
    "numbers = [1, 2, 3, 4, 5]\n",
    "\n",
    "result = [n*2 for n in numbers if n%2 ==1]\n",
    "print(result)"
   ]
  },
  {
   "cell_type": "code",
   "execution_count": null,
   "metadata": {},
   "outputs": [],
   "source": []
  }
 ],
 "metadata": {
  "kernelspec": {
   "display_name": "Python 3",
   "language": "python",
   "name": "python3"
  },
  "language_info": {
   "codemirror_mode": {
    "name": "ipython",
    "version": 3
   },
   "file_extension": ".py",
   "mimetype": "text/x-python",
   "name": "python",
   "nbconvert_exporter": "python",
   "pygments_lexer": "ipython3",
   "version": "3.8.5"
  }
 },
 "nbformat": 4,
 "nbformat_minor": 4
}
